{
 "cells": [
  {
   "cell_type": "code",
   "execution_count": 1,
   "metadata": {},
   "outputs": [],
   "source": [
    "import sys\n",
    "import os\n",
    "\n",
    "def process(lines=None):\n",
    "    ks = ['name', 'sequence', 'optional', 'quality']\n",
    "    return {k: v for k, v in zip(ks, lines)}\n",
    "\n",
    "n = 4\n",
    "fn = \"ads1_week4_reads.fq\"\n",
    "reads = []\n",
    "with open(fn, 'r') as fh:\n",
    "    lines = []\n",
    "    for line in fh:\n",
    "        lines.append(line.rstrip())\n",
    "        if len(lines) == n:\n",
    "            record = process(lines)\n",
    "            # sys.stderr.write(\"Record: %s\\n\" % (str(record)))\n",
    "            reads.append(record['sequence'])\n",
    "            lines = []"
   ]
  },
  {
   "cell_type": "code",
   "execution_count": 2,
   "metadata": {},
   "outputs": [
    {
     "name": "stdout",
     "output_type": "stream",
     "text": [
      "CPU times: user 3 µs, sys: 0 ns, total: 3 µs\n",
      "Wall time: 5.72 µs\n"
     ]
    },
    {
     "ename": "NameError",
     "evalue": "name 'greedy_scs' is not defined",
     "output_type": "error",
     "traceback": [
      "\u001b[0;31m---------------------------------------------------------------------------\u001b[0m",
      "\u001b[0;31mNameError\u001b[0m                                 Traceback (most recent call last)",
      "\u001b[0;32m<ipython-input-2-4c75c52665b7>\u001b[0m in \u001b[0;36m<module>\u001b[0;34m\u001b[0m\n\u001b[1;32m      1\u001b[0m \u001b[0mget_ipython\u001b[0m\u001b[0;34m(\u001b[0m\u001b[0;34m)\u001b[0m\u001b[0;34m.\u001b[0m\u001b[0mrun_line_magic\u001b[0m\u001b[0;34m(\u001b[0m\u001b[0;34m'time'\u001b[0m\u001b[0;34m,\u001b[0m \u001b[0;34m''\u001b[0m\u001b[0;34m)\u001b[0m\u001b[0;34m\u001b[0m\u001b[0;34m\u001b[0m\u001b[0m\n\u001b[1;32m      2\u001b[0m \u001b[0mlen\u001b[0m\u001b[0;34m(\u001b[0m\u001b[0mreads\u001b[0m\u001b[0;34m)\u001b[0m\u001b[0;34m\u001b[0m\u001b[0;34m\u001b[0m\u001b[0m\n\u001b[0;32m----> 3\u001b[0;31m \u001b[0mshortest_strings\u001b[0m \u001b[0;34m=\u001b[0m \u001b[0mgreedy_scs\u001b[0m\u001b[0;34m(\u001b[0m\u001b[0mreads\u001b[0m\u001b[0;34m,\u001b[0m \u001b[0;36m50\u001b[0m\u001b[0;34m,\u001b[0m \u001b[0mjoin\u001b[0m\u001b[0;34m=\u001b[0m\u001b[0;32mFalse\u001b[0m\u001b[0;34m)\u001b[0m\u001b[0;34m\u001b[0m\u001b[0;34m\u001b[0m\u001b[0m\n\u001b[0m\u001b[1;32m      4\u001b[0m \u001b[0;34m\u001b[0m\u001b[0m\n\u001b[1;32m      5\u001b[0m \u001b[0;32mwith\u001b[0m \u001b[0mopen\u001b[0m\u001b[0;34m(\u001b[0m\u001b[0;34m'greedy_virus.txt'\u001b[0m\u001b[0;34m,\u001b[0m \u001b[0;34m'wt'\u001b[0m\u001b[0;34m)\u001b[0m \u001b[0;32mas\u001b[0m \u001b[0mf\u001b[0m\u001b[0;34m:\u001b[0m\u001b[0;34m\u001b[0m\u001b[0;34m\u001b[0m\u001b[0m\n",
      "\u001b[0;31mNameError\u001b[0m: name 'greedy_scs' is not defined"
     ]
    }
   ],
   "source": [
    "%time\n",
    "len(reads)\n",
    "shortest_strings = greedy_scs(reads, 50, join=False)\n",
    "\n",
    "with open('greedy_virus.txt', 'wt') as f:\n",
    "    for line in shortest_strings:\n",
    "        f.writelines(line + '\\n')"
   ]
  },
  {
   "cell_type": "code",
   "execution_count": 3,
   "metadata": {},
   "outputs": [
    {
     "name": "stdout",
     "output_type": "stream",
     "text": [
      "CPU times: user 4 µs, sys: 1 µs, total: 5 µs\n",
      "Wall time: 8.11 µs\n"
     ]
    }
   ],
   "source": [
    "%time\n",
    "with open('greedy_virus.txt', 'rt') as f:\n",
    "    virus_genome = f.readlines()[0]"
   ]
  },
  {
   "cell_type": "code",
   "execution_count": 459,
   "metadata": {},
   "outputs": [
    {
     "name": "stdout",
     "output_type": "stream",
     "text": [
      "A -> 4633\n",
      "T -> 3723\n",
      "C -> 3789\n",
      "G -> 3749\n"
     ]
    }
   ],
   "source": [
    "for nucleotide in 'ATCG':\n",
    "    print(f'{nucleotide} -> {virus_genome.count(nucleotide)}')"
   ]
  },
  {
   "cell_type": "code",
   "execution_count": 460,
   "metadata": {},
   "outputs": [
    {
     "name": "stdout",
     "output_type": "stream",
     "text": [
      "Collecting assembly_stats\n",
      "  Downloading assembly_stats-0.1.4-py3-none-any.whl (5.0 kB)\n",
      "Requirement already satisfied: numpy in /Users/juanes/.virtualenvs/jupyter/lib/python3.8/site-packages (from assembly_stats) (1.19.2)\n",
      "Installing collected packages: assembly-stats\n",
      "Successfully installed assembly-stats-0.1.4\n",
      "\u001b[33mWARNING: You are using pip version 20.2.2; however, version 20.2.4 is available.\n",
      "You should consider upgrading via the '/Users/juanes/.virtualenvs/jupyter/bin/python -m pip install --upgrade pip' command.\u001b[0m\n"
     ]
    }
   ],
   "source": [
    "!pip install assembly_stats"
   ]
  },
  {
   "cell_type": "code",
   "execution_count": 461,
   "metadata": {},
   "outputs": [
    {
     "name": "stdout",
     "output_type": "stream",
     "text": [
      "usage: assembly_stats [-h] filename\n",
      "\n",
      "Calculate statistics about genome assemblies.\n",
      "\n",
      "positional arguments:\n",
      "  filename    Genome file in FASTA format.\n",
      "\n",
      "optional arguments:\n",
      "  -h, --help  show this help message and exit\n"
     ]
    }
   ],
   "source": [
    "!assembly_stats -h"
   ]
  },
  {
   "cell_type": "code",
   "execution_count": 468,
   "metadata": {},
   "outputs": [
    {
     "name": "stdout",
     "output_type": "stream",
     "text": [
      "{\n",
      "  \"Contig Stats\": {\n",
      "    \"L10\": 7,\n",
      "    \"L20\": 17,\n",
      "    \"L30\": 27,\n",
      "    \"L40\": 37,\n",
      "    \"L50\": 46,\n",
      "    \"N10\": 99,\n",
      "    \"N20\": 99,\n",
      "    \"N30\": 99,\n",
      "    \"N40\": 99,\n",
      "    \"N50\": 99,\n",
      "    \"gc_content\": 39.45795548227535,\n",
      "    \"longest\": 156,\n",
      "    \"mean\": 101.08333333333333,\n",
      "    \"median\": 99.0,\n",
      "    \"sequence_count\": 96,\n",
      "    \"shortest\": 99,\n",
      "    \"total_bps\": 9704\n",
      "  },\n",
      "  \"Scaffold Stats\": {\n",
      "    \"L10\": 7,\n",
      "    \"L20\": 17,\n",
      "    \"L30\": 27,\n",
      "    \"L40\": 37,\n",
      "    \"L50\": 46,\n",
      "    \"N10\": 99,\n",
      "    \"N20\": 99,\n",
      "    \"N30\": 99,\n",
      "    \"N40\": 99,\n",
      "    \"N50\": 99,\n",
      "    \"gc_content\": 39.45795548227535,\n",
      "    \"longest\": 156,\n",
      "    \"mean\": 101.08333333333333,\n",
      "    \"median\": 99.0,\n",
      "    \"sequence_count\": 96,\n",
      "    \"shortest\": 99,\n",
      "    \"total_bps\": 9704\n",
      "  }\n",
      "}\n"
     ]
    }
   ],
   "source": [
    "!assembly_stats /Users/juanes/cornell/CS_5112/deBruijn-dna-assembly/outdir/demo_result.fasta"
   ]
  },
  {
   "cell_type": "code",
   "execution_count": 476,
   "metadata": {},
   "outputs": [
    {
     "name": "stdout",
     "output_type": "stream",
     "text": [
      "Requirement already satisfied: quast in /Users/juanes/.virtualenvs/jupyter/lib/python3.8/site-packages (5.0.2)\n",
      "Requirement already satisfied: joblib in /Users/juanes/.virtualenvs/jupyter/lib/python3.8/site-packages (from quast) (0.17.0)\n",
      "Requirement already satisfied: simplejson in /Users/juanes/.virtualenvs/jupyter/lib/python3.8/site-packages (from quast) (3.17.2)\n",
      "\u001b[33mWARNING: You are using pip version 20.2.2; however, version 20.2.4 is available.\n",
      "You should consider upgrading via the '/Users/juanes/.virtualenvs/jupyter/bin/python -m pip install --upgrade pip' command.\u001b[0m\n"
     ]
    }
   ],
   "source": [
    "# http://cab.cc.spbu.ru/quast/\n",
    "# https://github.com/ablab/quast\n",
    "!pip install quast"
   ]
  },
  {
   "cell_type": "code",
   "execution_count": 475,
   "metadata": {
    "collapsed": true,
    "jupyter": {
     "outputs_hidden": true
    }
   },
   "outputs": [
    {
     "name": "stdout",
     "output_type": "stream",
     "text": [
      "/Users/juanes/.virtualenvs/jupyter/bin/quast.py -m 50 /Users/juanes/cornell/CS_5112/deBruijn-dna-assembly/outdir/demo_result.fasta\n",
      "\n",
      "Version: 5.0.2\n",
      "\n",
      "System information:\n",
      "  OS: macOS-10.14.6-x86_64-i386-64bit (macosx)\n",
      "  Python version: 3.8.6\n",
      "  CPUs number: 8\n",
      "\n",
      "Started: 2020-11-29 20:41:25\n",
      "\n",
      "Logging to /Users/juanes/cornell/CS_5112/deBruijn-dna-assembly/analyses/quast_results/results_2020_11_29_20_41_25/quast.log\n",
      "NOTICE: Maximum number of threads is set to 2 (use --threads option to set it manually)\n",
      "\n",
      "CWD: /Users/juanes/cornell/CS_5112/deBruijn-dna-assembly/analyses\n",
      "Main parameters: \n",
      "  MODE: default, threads: 2, minimum contig length: 50, minimum alignment length: 65, \\\n",
      "  ambiguity: one, threshold for extensive misassembly size: 1000\n",
      "\n",
      "Contigs:\n",
      "  Pre-processing...\n",
      "  /Users/juanes/cornell/CS_5112/deBruijn-dna-assembly/outdir/demo_result.fasta ==> demo_result\n",
      "\n",
      "module 'cgi' has no attribute 'escape'\n",
      "Traceback (most recent call last):\n",
      "  File \"/Users/juanes/.virtualenvs/jupyter/bin/quast.py\", line 307, in <module>\n",
      "    return_code = main(sys.argv[1:])\n",
      "  File \"/Users/juanes/.virtualenvs/jupyter/bin/quast.py\", line 148, in main\n",
      "    from quast_libs import basic_stats\n",
      "  File \"/Users/juanes/.virtualenvs/jupyter/lib/python3.8/site-packages/quast_libs/basic_stats.py\", line 15, in <module>\n",
      "    from quast_libs.circos import set_window_size\n",
      "  File \"/Users/juanes/.virtualenvs/jupyter/lib/python3.8/site-packages/quast_libs/circos.py\", line 25, in <module>\n",
      "    from quast_libs.icarus_utils import get_assemblies, check_misassembled_blocks, Alignment\n",
      "  File \"/Users/juanes/.virtualenvs/jupyter/lib/python3.8/site-packages/quast_libs/icarus_utils.py\", line 15, in <module>\n",
      "    from quast_libs.html_saver.html_saver import trim_ref_name\n",
      "  File \"/Users/juanes/.virtualenvs/jupyter/lib/python3.8/site-packages/quast_libs/html_saver/html_saver.py\", line 18, in <module>\n",
      "    from quast_libs.site_packages.jsontemplate import jsontemplate\n",
      "  File \"/Users/juanes/.virtualenvs/jupyter/lib/python3.8/site-packages/quast_libs/site_packages/jsontemplate/jsontemplate.py\", line 583, in <module>\n",
      "    'html': cgi.escape,\n",
      "AttributeError: module 'cgi' has no attribute 'escape'\n",
      "ERROR! exception caught!\n",
      "\n",
      "In case you have troubles running QUAST, you can write to quast.support@cab.spbu.ru\n",
      "or report an issue on our GitHub repository https://github.com/ablab/quast/issues\n",
      "Please provide us with quast.log file from the output directory.\n"
     ]
    }
   ],
   "source": [
    "!quast.py -m 50 /Users/juanes/cornell/CS_5112/deBruijn-dna-assembly/outdir/demo_result.fasta"
   ]
  },
  {
   "cell_type": "code",
   "execution_count": null,
   "metadata": {},
   "outputs": [],
   "source": []
  }
 ],
 "metadata": {
  "kernelspec": {
   "display_name": "Python 3",
   "language": "python",
   "name": "python3"
  },
  "language_info": {
   "codemirror_mode": {
    "name": "ipython",
    "version": 3
   },
   "file_extension": ".py",
   "mimetype": "text/x-python",
   "name": "python",
   "nbconvert_exporter": "python",
   "pygments_lexer": "ipython3",
   "version": "3.8.6"
  }
 },
 "nbformat": 4,
 "nbformat_minor": 4
}
